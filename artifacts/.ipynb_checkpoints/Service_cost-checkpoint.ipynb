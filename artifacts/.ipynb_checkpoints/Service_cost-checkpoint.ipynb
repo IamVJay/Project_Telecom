{
 "cells": [
  {
   "cell_type": "raw",
   "id": "238d3ecd",
   "metadata": {},
   "source": [
    "Promblem Statement: Predict cost to conncet enterprise customer via fiber/RF. "
   ]
  },
  {
   "cell_type": "code",
   "execution_count": 1,
   "id": "5f97e0b2",
   "metadata": {},
   "outputs": [],
   "source": [
    "import pandas as pd\n",
    "import numpy as np\n",
    "\n",
    "import matplotlib.pyplot as plt\n",
    "import seaborn as sns\n",
    "\n",
    "from sklearn.model_selection import train_test_split\n",
    "from sklearn.linear_model import LinearRegression\n",
    "from sklearn.metrics import r2_score"
   ]
  },
  {
   "cell_type": "code",
   "execution_count": 2,
   "id": "ab815412",
   "metadata": {},
   "outputs": [],
   "source": [
    "df = pd.read_excel(\"C:\\Vijay\\Project_Telecom\\Project_Telecom\\data\\DS_1.xlsx\")"
   ]
  },
  {
   "cell_type": "code",
   "execution_count": 3,
   "id": "3cd8178b",
   "metadata": {},
   "outputs": [
    {
     "data": {
      "text/html": [
       "<div>\n",
       "<style scoped>\n",
       "    .dataframe tbody tr th:only-of-type {\n",
       "        vertical-align: middle;\n",
       "    }\n",
       "\n",
       "    .dataframe tbody tr th {\n",
       "        vertical-align: top;\n",
       "    }\n",
       "\n",
       "    .dataframe thead th {\n",
       "        text-align: right;\n",
       "    }\n",
       "</style>\n",
       "<table border=\"1\" class=\"dataframe\">\n",
       "  <thead>\n",
       "    <tr style=\"text-align: right;\">\n",
       "      <th></th>\n",
       "      <th>Sno</th>\n",
       "      <th>Product</th>\n",
       "      <th>Lat</th>\n",
       "      <th>Long</th>\n",
       "      <th>BLDG_ID</th>\n",
       "      <th>R4G State</th>\n",
       "      <th>BW</th>\n",
       "      <th>Unit</th>\n",
       "      <th>Site ID</th>\n",
       "      <th>BLDG RFS status</th>\n",
       "      <th>...</th>\n",
       "      <th>Cost of IP</th>\n",
       "      <th>Cost for FTTX</th>\n",
       "      <th>Cost of UBR</th>\n",
       "      <th>OSP calculation</th>\n",
       "      <th>Unnamed: 27</th>\n",
       "      <th>Unnamed: 28</th>\n",
       "      <th>Unnamed: 29</th>\n",
       "      <th>Unnamed: 30</th>\n",
       "      <th>Unnamed: 31</th>\n",
       "      <th>Unnamed: 32</th>\n",
       "    </tr>\n",
       "  </thead>\n",
       "  <tbody>\n",
       "    <tr>\n",
       "      <th>0</th>\n",
       "      <td>1</td>\n",
       "      <td>SIP-TRUNK</td>\n",
       "      <td>12.734974</td>\n",
       "      <td>77.830941</td>\n",
       "      <td>HSURBD0047899</td>\n",
       "      <td>TAMIL_NADU</td>\n",
       "      <td>3000</td>\n",
       "      <td>KBPS</td>\n",
       "      <td>EO0000016FHC</td>\n",
       "      <td>NaN</td>\n",
       "      <td>...</td>\n",
       "      <td>690750.37</td>\n",
       "      <td>NaN</td>\n",
       "      <td>45000.0</td>\n",
       "      <td>116.6</td>\n",
       "      <td>1.53</td>\n",
       "      <td>45154</td>\n",
       "      <td>426406.2</td>\n",
       "      <td>23320.0</td>\n",
       "      <td>5729.85</td>\n",
       "      <td>8788.32</td>\n",
       "    </tr>\n",
       "    <tr>\n",
       "      <th>1</th>\n",
       "      <td>2</td>\n",
       "      <td>MPLS-VPN</td>\n",
       "      <td>19.115980</td>\n",
       "      <td>72.847388</td>\n",
       "      <td>MUMBBD0308617</td>\n",
       "      <td>MUMBAI</td>\n",
       "      <td>15</td>\n",
       "      <td>MBPS</td>\n",
       "      <td>EO0000017XXH</td>\n",
       "      <td>S2/OTB</td>\n",
       "      <td>...</td>\n",
       "      <td>2378983.79</td>\n",
       "      <td>3350.0</td>\n",
       "      <td>45000.0</td>\n",
       "      <td>112.2</td>\n",
       "      <td>1.51</td>\n",
       "      <td>45154</td>\n",
       "      <td>410315.4</td>\n",
       "      <td>22440.0</td>\n",
       "      <td>5654.95</td>\n",
       "      <td>8673.44</td>\n",
       "    </tr>\n",
       "    <tr>\n",
       "      <th>2</th>\n",
       "      <td>3</td>\n",
       "      <td>MPLS-VPN</td>\n",
       "      <td>19.755118</td>\n",
       "      <td>72.756569</td>\n",
       "      <td>PLGRBD0022833</td>\n",
       "      <td>MUMBAI</td>\n",
       "      <td>4</td>\n",
       "      <td>MBPS</td>\n",
       "      <td>EO0000017XXV</td>\n",
       "      <td>NaN</td>\n",
       "      <td>...</td>\n",
       "      <td>66180528.35</td>\n",
       "      <td>NaN</td>\n",
       "      <td>45000.0</td>\n",
       "      <td>3333.0</td>\n",
       "      <td>16.15</td>\n",
       "      <td>45154</td>\n",
       "      <td>12188781.0</td>\n",
       "      <td>666600.0</td>\n",
       "      <td>60481.75</td>\n",
       "      <td>92765.60</td>\n",
       "    </tr>\n",
       "    <tr>\n",
       "      <th>3</th>\n",
       "      <td>4</td>\n",
       "      <td>SIP-TRUNK</td>\n",
       "      <td>11.656529</td>\n",
       "      <td>78.163851</td>\n",
       "      <td>NPNIBD0016251</td>\n",
       "      <td>KARNATAKA</td>\n",
       "      <td>10</td>\n",
       "      <td>MBPS</td>\n",
       "      <td>EO0000015IWN</td>\n",
       "      <td>NaN</td>\n",
       "      <td>...</td>\n",
       "      <td>4087948.42</td>\n",
       "      <td>NaN</td>\n",
       "      <td>45000.0</td>\n",
       "      <td>875.6</td>\n",
       "      <td>4.98</td>\n",
       "      <td>45154</td>\n",
       "      <td>3202069.2</td>\n",
       "      <td>175120.0</td>\n",
       "      <td>18650.10</td>\n",
       "      <td>28605.12</td>\n",
       "    </tr>\n",
       "    <tr>\n",
       "      <th>4</th>\n",
       "      <td>5</td>\n",
       "      <td>NaN</td>\n",
       "      <td>NaN</td>\n",
       "      <td>NaN</td>\n",
       "      <td>SLEMBD0043912</td>\n",
       "      <td>TAMIL_NADU</td>\n",
       "      <td>3000</td>\n",
       "      <td>KBPS</td>\n",
       "      <td>EO0000016FHE</td>\n",
       "      <td>NaN</td>\n",
       "      <td>...</td>\n",
       "      <td>1507415.86</td>\n",
       "      <td>NaN</td>\n",
       "      <td>45000.0</td>\n",
       "      <td>294.8</td>\n",
       "      <td>2.34</td>\n",
       "      <td>45154</td>\n",
       "      <td>1078083.6</td>\n",
       "      <td>58960.0</td>\n",
       "      <td>8763.30</td>\n",
       "      <td>13440.96</td>\n",
       "    </tr>\n",
       "  </tbody>\n",
       "</table>\n",
       "<p>5 rows × 33 columns</p>\n",
       "</div>"
      ],
      "text/plain": [
       "   Sno    Product        Lat       Long        BLDG_ID   R4G State    BW  \\\n",
       "0    1  SIP-TRUNK  12.734974  77.830941  HSURBD0047899  TAMIL_NADU  3000   \n",
       "1    2   MPLS-VPN  19.115980  72.847388  MUMBBD0308617      MUMBAI    15   \n",
       "2    3   MPLS-VPN  19.755118  72.756569  PLGRBD0022833      MUMBAI     4   \n",
       "3    4  SIP-TRUNK  11.656529  78.163851  NPNIBD0016251   KARNATAKA    10   \n",
       "4    5        NaN        NaN        NaN  SLEMBD0043912  TAMIL_NADU  3000   \n",
       "\n",
       "   Unit       Site ID BLDG RFS status  ...  Cost of IP  Cost for FTTX  \\\n",
       "0  KBPS  EO0000016FHC             NaN  ...    690750.37           NaN   \n",
       "1  MBPS  EO0000017XXH          S2/OTB  ...   2378983.79        3350.0   \n",
       "2  MBPS  EO0000017XXV             NaN  ...  66180528.35           NaN   \n",
       "3  MBPS  EO0000015IWN             NaN  ...   4087948.42           NaN   \n",
       "4  KBPS  EO0000016FHE             NaN  ...   1507415.86           NaN   \n",
       "\n",
       "   Cost of UBR  OSP calculation  Unnamed: 27  Unnamed: 28  Unnamed: 29  \\\n",
       "0      45000.0            116.6         1.53        45154     426406.2   \n",
       "1      45000.0            112.2         1.51        45154     410315.4   \n",
       "2      45000.0           3333.0        16.15        45154   12188781.0   \n",
       "3      45000.0            875.6         4.98        45154    3202069.2   \n",
       "4      45000.0            294.8         2.34        45154    1078083.6   \n",
       "\n",
       "   Unnamed: 30  Unnamed: 31  Unnamed: 32  \n",
       "0      23320.0      5729.85      8788.32  \n",
       "1      22440.0      5654.95      8673.44  \n",
       "2     666600.0     60481.75     92765.60  \n",
       "3     175120.0     18650.10     28605.12  \n",
       "4      58960.0      8763.30     13440.96  \n",
       "\n",
       "[5 rows x 33 columns]"
      ]
     },
     "execution_count": 3,
     "metadata": {},
     "output_type": "execute_result"
    }
   ],
   "source": [
    "df.head()"
   ]
  },
  {
   "cell_type": "code",
   "execution_count": 4,
   "id": "5132550d",
   "metadata": {},
   "outputs": [
    {
     "data": {
      "text/plain": [
       "Index(['Sno', 'Product', 'Lat', 'Long', 'BLDG_ID', 'R4G State', 'BW', 'Unit',\n",
       "       'Site ID', 'BLDG RFS status', 'BLDG Status', 'Media', 'Cost',\n",
       "       'TND_Scope_IP_Meter', 'TND_per_Meter', 'ROW_Per_Meter', 'TND_Cost',\n",
       "       'ROW_Cost', 'OSP_Cost', 'ISP_Cost', 'IBD_Cost', 'NCPE_Cost',\n",
       "       'Utility_Cost', 'Cost of IP ', 'Cost for FTTX', 'Cost of UBR',\n",
       "       'OSP calculation', 'Unnamed: 27', 'Unnamed: 28', 'Unnamed: 29',\n",
       "       'Unnamed: 30', 'Unnamed: 31', 'Unnamed: 32'],\n",
       "      dtype='object')"
      ]
     },
     "execution_count": 4,
     "metadata": {},
     "output_type": "execute_result"
    }
   ],
   "source": [
    "df.columns"
   ]
  },
  {
   "cell_type": "code",
   "execution_count": 5,
   "id": "e62148b6",
   "metadata": {},
   "outputs": [],
   "source": [
    "df.drop([\"Sno\",'Unnamed: 27', 'Unnamed: 28', 'Unnamed: 29', 'BW', 'Unit', 'BLDG Status',\n",
    "        'Media', 'Cost','Product','BLDG RFS status','Cost for FTTX','Cost of UBR','OSP calculation',\n",
    "       'Unnamed: 30', 'Unnamed: 31', 'Unnamed: 32','Lat', 'Long','Site ID'], axis=1, inplace=True)"
   ]
  },
  {
   "cell_type": "code",
   "execution_count": 6,
   "id": "f6f08535",
   "metadata": {},
   "outputs": [
    {
     "data": {
      "text/html": [
       "<div>\n",
       "<style scoped>\n",
       "    .dataframe tbody tr th:only-of-type {\n",
       "        vertical-align: middle;\n",
       "    }\n",
       "\n",
       "    .dataframe tbody tr th {\n",
       "        vertical-align: top;\n",
       "    }\n",
       "\n",
       "    .dataframe thead th {\n",
       "        text-align: right;\n",
       "    }\n",
       "</style>\n",
       "<table border=\"1\" class=\"dataframe\">\n",
       "  <thead>\n",
       "    <tr style=\"text-align: right;\">\n",
       "      <th></th>\n",
       "      <th>BLDG_ID</th>\n",
       "      <th>R4G State</th>\n",
       "      <th>TND_Scope_IP_Meter</th>\n",
       "      <th>TND_per_Meter</th>\n",
       "      <th>ROW_Per_Meter</th>\n",
       "      <th>TND_Cost</th>\n",
       "      <th>ROW_Cost</th>\n",
       "      <th>OSP_Cost</th>\n",
       "      <th>ISP_Cost</th>\n",
       "      <th>IBD_Cost</th>\n",
       "      <th>NCPE_Cost</th>\n",
       "      <th>Utility_Cost</th>\n",
       "      <th>Cost of IP</th>\n",
       "    </tr>\n",
       "  </thead>\n",
       "  <tbody>\n",
       "    <tr>\n",
       "      <th>0</th>\n",
       "      <td>HSURBD0047899</td>\n",
       "      <td>TAMIL_NADU</td>\n",
       "      <td>106.0</td>\n",
       "      <td>478</td>\n",
       "      <td>273</td>\n",
       "      <td>50668</td>\n",
       "      <td>28938</td>\n",
       "      <td>509398.37</td>\n",
       "      <td>47500</td>\n",
       "      <td>33933</td>\n",
       "      <td>19413</td>\n",
       "      <td>900</td>\n",
       "      <td>690750.37</td>\n",
       "    </tr>\n",
       "    <tr>\n",
       "      <th>1</th>\n",
       "      <td>MUMBBD0308617</td>\n",
       "      <td>MUMBAI</td>\n",
       "      <td>102.0</td>\n",
       "      <td>7500</td>\n",
       "      <td>10000</td>\n",
       "      <td>765000</td>\n",
       "      <td>1020000</td>\n",
       "      <td>492237.79</td>\n",
       "      <td>47500</td>\n",
       "      <td>33933</td>\n",
       "      <td>19413</td>\n",
       "      <td>900</td>\n",
       "      <td>2378983.79</td>\n",
       "    </tr>\n",
       "    <tr>\n",
       "      <th>2</th>\n",
       "      <td>PLGRBD0022833</td>\n",
       "      <td>MUMBAI</td>\n",
       "      <td>3030.0</td>\n",
       "      <td>7500</td>\n",
       "      <td>10000</td>\n",
       "      <td>22725000</td>\n",
       "      <td>30300000</td>\n",
       "      <td>13053782.35</td>\n",
       "      <td>47500</td>\n",
       "      <td>33933</td>\n",
       "      <td>19413</td>\n",
       "      <td>900</td>\n",
       "      <td>66180528.35</td>\n",
       "    </tr>\n",
       "    <tr>\n",
       "      <th>3</th>\n",
       "      <td>NPNIBD0016251</td>\n",
       "      <td>KARNATAKA</td>\n",
       "      <td>796.0</td>\n",
       "      <td>297</td>\n",
       "      <td>352</td>\n",
       "      <td>236412</td>\n",
       "      <td>280192</td>\n",
       "      <td>3469598.42</td>\n",
       "      <td>47500</td>\n",
       "      <td>33933</td>\n",
       "      <td>19413</td>\n",
       "      <td>900</td>\n",
       "      <td>4087948.42</td>\n",
       "    </tr>\n",
       "    <tr>\n",
       "      <th>4</th>\n",
       "      <td>SLEMBD0043912</td>\n",
       "      <td>TAMIL_NADU</td>\n",
       "      <td>268.0</td>\n",
       "      <td>478</td>\n",
       "      <td>273</td>\n",
       "      <td>128104</td>\n",
       "      <td>73164</td>\n",
       "      <td>1204401.86</td>\n",
       "      <td>47500</td>\n",
       "      <td>33933</td>\n",
       "      <td>19413</td>\n",
       "      <td>900</td>\n",
       "      <td>1507415.86</td>\n",
       "    </tr>\n",
       "  </tbody>\n",
       "</table>\n",
       "</div>"
      ],
      "text/plain": [
       "         BLDG_ID   R4G State  TND_Scope_IP_Meter  TND_per_Meter  \\\n",
       "0  HSURBD0047899  TAMIL_NADU               106.0            478   \n",
       "1  MUMBBD0308617      MUMBAI               102.0           7500   \n",
       "2  PLGRBD0022833      MUMBAI              3030.0           7500   \n",
       "3  NPNIBD0016251   KARNATAKA               796.0            297   \n",
       "4  SLEMBD0043912  TAMIL_NADU               268.0            478   \n",
       "\n",
       "   ROW_Per_Meter  TND_Cost  ROW_Cost     OSP_Cost  ISP_Cost  IBD_Cost  \\\n",
       "0            273     50668     28938    509398.37     47500     33933   \n",
       "1          10000    765000   1020000    492237.79     47500     33933   \n",
       "2          10000  22725000  30300000  13053782.35     47500     33933   \n",
       "3            352    236412    280192   3469598.42     47500     33933   \n",
       "4            273    128104     73164   1204401.86     47500     33933   \n",
       "\n",
       "   NCPE_Cost  Utility_Cost  Cost of IP   \n",
       "0      19413           900    690750.37  \n",
       "1      19413           900   2378983.79  \n",
       "2      19413           900  66180528.35  \n",
       "3      19413           900   4087948.42  \n",
       "4      19413           900   1507415.86  "
      ]
     },
     "execution_count": 6,
     "metadata": {},
     "output_type": "execute_result"
    }
   ],
   "source": [
    "df.head()"
   ]
  },
  {
   "cell_type": "code",
   "execution_count": 7,
   "id": "790dc8c3",
   "metadata": {},
   "outputs": [
    {
     "data": {
      "text/plain": [
       "Index(['BLDG_ID', 'R4G State', 'TND_Scope_IP_Meter', 'TND_per_Meter',\n",
       "       'ROW_Per_Meter', 'TND_Cost', 'ROW_Cost', 'OSP_Cost', 'ISP_Cost',\n",
       "       'IBD_Cost', 'NCPE_Cost', 'Utility_Cost', 'Cost of IP '],\n",
       "      dtype='object')"
      ]
     },
     "execution_count": 7,
     "metadata": {},
     "output_type": "execute_result"
    }
   ],
   "source": [
    "df.columns"
   ]
  },
  {
   "cell_type": "code",
   "execution_count": 8,
   "id": "b334b9b9",
   "metadata": {},
   "outputs": [
    {
     "name": "stdout",
     "output_type": "stream",
     "text": [
      "<class 'pandas.core.frame.DataFrame'>\n",
      "RangeIndex: 26 entries, 0 to 25\n",
      "Data columns (total 13 columns):\n",
      " #   Column              Non-Null Count  Dtype  \n",
      "---  ------              --------------  -----  \n",
      " 0   BLDG_ID             26 non-null     object \n",
      " 1   R4G State           26 non-null     object \n",
      " 2   TND_Scope_IP_Meter  22 non-null     float64\n",
      " 3   TND_per_Meter       26 non-null     int64  \n",
      " 4   ROW_Per_Meter       26 non-null     int64  \n",
      " 5   TND_Cost            26 non-null     int64  \n",
      " 6   ROW_Cost            26 non-null     int64  \n",
      " 7   OSP_Cost            26 non-null     float64\n",
      " 8   ISP_Cost            26 non-null     int64  \n",
      " 9   IBD_Cost            26 non-null     int64  \n",
      " 10  NCPE_Cost           26 non-null     int64  \n",
      " 11  Utility_Cost        26 non-null     int64  \n",
      " 12  Cost of IP          26 non-null     float64\n",
      "dtypes: float64(3), int64(8), object(2)\n",
      "memory usage: 2.8+ KB\n"
     ]
    }
   ],
   "source": [
    "df.info()"
   ]
  },
  {
   "cell_type": "code",
   "execution_count": 9,
   "id": "0a222269",
   "metadata": {},
   "outputs": [
    {
     "data": {
      "text/plain": [
       "BLDG_ID               0\n",
       "R4G State             0\n",
       "TND_Scope_IP_Meter    4\n",
       "TND_per_Meter         0\n",
       "ROW_Per_Meter         0\n",
       "TND_Cost              0\n",
       "ROW_Cost              0\n",
       "OSP_Cost              0\n",
       "ISP_Cost              0\n",
       "IBD_Cost              0\n",
       "NCPE_Cost             0\n",
       "Utility_Cost          0\n",
       "Cost of IP            0\n",
       "dtype: int64"
      ]
     },
     "execution_count": 9,
     "metadata": {},
     "output_type": "execute_result"
    }
   ],
   "source": [
    "df.isna().sum()"
   ]
  },
  {
   "cell_type": "code",
   "execution_count": 10,
   "id": "982a9737",
   "metadata": {},
   "outputs": [],
   "source": [
    "df['TND_Scope_IP_Meter'] = df['TND_Scope_IP_Meter'].fillna(0)"
   ]
  },
  {
   "cell_type": "code",
   "execution_count": 11,
   "id": "859995a0",
   "metadata": {},
   "outputs": [
    {
     "data": {
      "text/plain": [
       "0      106.0\n",
       "1      102.0\n",
       "2     3030.0\n",
       "3      796.0\n",
       "4      268.0\n",
       "5      582.0\n",
       "6      119.0\n",
       "7      328.0\n",
       "8      861.0\n",
       "9        0.0\n",
       "10    1159.0\n",
       "11       0.0\n",
       "12     248.0\n",
       "13       0.0\n",
       "14      62.0\n",
       "15       0.0\n",
       "16     403.0\n",
       "17       0.0\n",
       "18     303.0\n",
       "19       0.0\n",
       "20    5268.0\n",
       "21     505.0\n",
       "22     367.0\n",
       "23     470.0\n",
       "24     445.0\n",
       "25     188.0\n",
       "Name: TND_Scope_IP_Meter, dtype: float64"
      ]
     },
     "execution_count": 11,
     "metadata": {},
     "output_type": "execute_result"
    }
   ],
   "source": [
    "df['TND_Scope_IP_Meter']"
   ]
  },
  {
   "cell_type": "code",
   "execution_count": 12,
   "id": "86a0b4b9",
   "metadata": {},
   "outputs": [
    {
     "data": {
      "text/plain": [
       "BLDG_ID               0\n",
       "R4G State             0\n",
       "TND_Scope_IP_Meter    0\n",
       "TND_per_Meter         0\n",
       "ROW_Per_Meter         0\n",
       "TND_Cost              0\n",
       "ROW_Cost              0\n",
       "OSP_Cost              0\n",
       "ISP_Cost              0\n",
       "IBD_Cost              0\n",
       "NCPE_Cost             0\n",
       "Utility_Cost          0\n",
       "Cost of IP            0\n",
       "dtype: int64"
      ]
     },
     "execution_count": 12,
     "metadata": {},
     "output_type": "execute_result"
    }
   ],
   "source": [
    "df.isna().sum()"
   ]
  },
  {
   "cell_type": "code",
   "execution_count": 13,
   "id": "70742dec",
   "metadata": {},
   "outputs": [
    {
     "data": {
      "text/plain": [
       "26"
      ]
     },
     "execution_count": 13,
     "metadata": {},
     "output_type": "execute_result"
    }
   ],
   "source": [
    "df.BLDG_ID.nunique()"
   ]
  },
  {
   "cell_type": "code",
   "execution_count": 14,
   "id": "063ffbb9",
   "metadata": {},
   "outputs": [],
   "source": [
    "df = pd.get_dummies(df, columns=['BLDG_ID'], prefix= 'BLDG_ID')"
   ]
  },
  {
   "cell_type": "code",
   "execution_count": 15,
   "id": "44c36c41",
   "metadata": {},
   "outputs": [
    {
     "name": "stdout",
     "output_type": "stream",
     "text": [
      "<class 'pandas.core.frame.DataFrame'>\n",
      "RangeIndex: 26 entries, 0 to 25\n",
      "Data columns (total 38 columns):\n",
      " #   Column                 Non-Null Count  Dtype  \n",
      "---  ------                 --------------  -----  \n",
      " 0   R4G State              26 non-null     object \n",
      " 1   TND_Scope_IP_Meter     26 non-null     float64\n",
      " 2   TND_per_Meter          26 non-null     int64  \n",
      " 3   ROW_Per_Meter          26 non-null     int64  \n",
      " 4   TND_Cost               26 non-null     int64  \n",
      " 5   ROW_Cost               26 non-null     int64  \n",
      " 6   OSP_Cost               26 non-null     float64\n",
      " 7   ISP_Cost               26 non-null     int64  \n",
      " 8   IBD_Cost               26 non-null     int64  \n",
      " 9   NCPE_Cost              26 non-null     int64  \n",
      " 10  Utility_Cost           26 non-null     int64  \n",
      " 11  Cost of IP             26 non-null     float64\n",
      " 12  BLDG_ID_AGBMBD0311718  26 non-null     uint8  \n",
      " 13  BLDG_ID_BBILBD0000290  26 non-null     uint8  \n",
      " 14  BLDG_ID_BDGHBD0097038  26 non-null     uint8  \n",
      " 15  BLDG_ID_CHNNBD0062206  26 non-null     uint8  \n",
      " 16  BLDG_ID_CTTRBD0002352  26 non-null     uint8  \n",
      " 17  BLDG_ID_DMTRBD0024571  26 non-null     uint8  \n",
      " 18  BLDG_ID_DPHUBD0007887  26 non-null     uint8  \n",
      " 19  BLDG_ID_FSNGBD0000338  26 non-null     uint8  \n",
      " 20  BLDG_ID_HDBDBD0303686  26 non-null     uint8  \n",
      " 21  BLDG_ID_HSURBD0047899  26 non-null     uint8  \n",
      " 22  BLDG_ID_ICKJBD0000744  26 non-null     uint8  \n",
      " 23  BLDG_ID_JBLPBD0064985  26 non-null     uint8  \n",
      " 24  BLDG_ID_JLDRBD0123615  26 non-null     uint8  \n",
      " 25  BLDG_ID_KNTDBD0047085  26 non-null     uint8  \n",
      " 26  BLDG_ID_LKMPBD0062346  26 non-null     uint8  \n",
      " 27  BLDG_ID_MDURBD0193179  26 non-null     uint8  \n",
      " 28  BLDG_ID_MUMBBD0308617  26 non-null     uint8  \n",
      " 29  BLDG_ID_MUMBBD0379405  26 non-null     uint8  \n",
      " 30  BLDG_ID_NPNIBD0016251  26 non-null     uint8  \n",
      " 31  BLDG_ID_NSHKBD0060970  26 non-null     uint8  \n",
      " 32  BLDG_ID_PLGRBD0022833  26 non-null     uint8  \n",
      " 33  BLDG_ID_RJKTBD0016176  26 non-null     uint8  \n",
      " 34  BLDG_ID_SLEMBD0043912  26 non-null     uint8  \n",
      " 35  BLDG_ID_SRDPBD0000002  26 non-null     uint8  \n",
      " 36  BLDG_ID_SURTBD0128500  26 non-null     uint8  \n",
      " 37  BLDG_ID_WNDGBD0000008  26 non-null     uint8  \n",
      "dtypes: float64(3), int64(8), object(1), uint8(26)\n",
      "memory usage: 3.2+ KB\n"
     ]
    }
   ],
   "source": [
    "df.info()"
   ]
  },
  {
   "cell_type": "raw",
   "id": "f3ab0508",
   "metadata": {},
   "source": [
    "\n",
    "one_hot = pd.get_dummies(df['R4G State'])\n",
    "# Drop column as it is now encoded\n",
    "df = df.drop('R4G State',axis = 1)\n",
    "# Join the encoded df\n",
    "df = df.join(one_hot)\n",
    "df"
   ]
  },
  {
   "cell_type": "code",
   "execution_count": 16,
   "id": "913b030f",
   "metadata": {},
   "outputs": [],
   "source": [
    "df = pd.get_dummies(df, columns=['R4G State'], prefix= 'state')"
   ]
  },
  {
   "cell_type": "code",
   "execution_count": 17,
   "id": "c868ebbe",
   "metadata": {},
   "outputs": [
    {
     "data": {
      "text/plain": [
       "Index(['TND_Scope_IP_Meter', 'TND_per_Meter', 'ROW_Per_Meter', 'TND_Cost',\n",
       "       'ROW_Cost', 'OSP_Cost', 'ISP_Cost', 'IBD_Cost', 'NCPE_Cost',\n",
       "       'Utility_Cost', 'Cost of IP ', 'BLDG_ID_AGBMBD0311718',\n",
       "       'BLDG_ID_BBILBD0000290', 'BLDG_ID_BDGHBD0097038',\n",
       "       'BLDG_ID_CHNNBD0062206', 'BLDG_ID_CTTRBD0002352',\n",
       "       'BLDG_ID_DMTRBD0024571', 'BLDG_ID_DPHUBD0007887',\n",
       "       'BLDG_ID_FSNGBD0000338', 'BLDG_ID_HDBDBD0303686',\n",
       "       'BLDG_ID_HSURBD0047899', 'BLDG_ID_ICKJBD0000744',\n",
       "       'BLDG_ID_JBLPBD0064985', 'BLDG_ID_JLDRBD0123615',\n",
       "       'BLDG_ID_KNTDBD0047085', 'BLDG_ID_LKMPBD0062346',\n",
       "       'BLDG_ID_MDURBD0193179', 'BLDG_ID_MUMBBD0308617',\n",
       "       'BLDG_ID_MUMBBD0379405', 'BLDG_ID_NPNIBD0016251',\n",
       "       'BLDG_ID_NSHKBD0060970', 'BLDG_ID_PLGRBD0022833',\n",
       "       'BLDG_ID_RJKTBD0016176', 'BLDG_ID_SLEMBD0043912',\n",
       "       'BLDG_ID_SRDPBD0000002', 'BLDG_ID_SURTBD0128500',\n",
       "       'BLDG_ID_WNDGBD0000008', 'state_ANDHRA_PRADESH', 'state_ASSAM',\n",
       "       'state_CHHATTISGARH', 'state_GUJARAT', 'state_HARYANA',\n",
       "       'state_KARNATAKA', 'state_KERALA', 'state_MADHYA_PRADESH',\n",
       "       'state_MAHARASHTRA', 'state_MUMBAI', 'state_PUNJAB', 'state_TAMIL_NADU',\n",
       "       'state_TELANGANA', 'state_UTTAR_PRADESH_EAST'],\n",
       "      dtype='object')"
      ]
     },
     "execution_count": 17,
     "metadata": {},
     "output_type": "execute_result"
    }
   ],
   "source": [
    "df.columns"
   ]
  },
  {
   "cell_type": "code",
   "execution_count": 18,
   "id": "c99e9202",
   "metadata": {},
   "outputs": [],
   "source": [
    "x = df.drop('Cost of IP ', axis=1)\n",
    "y = df['Cost of IP ']"
   ]
  },
  {
   "cell_type": "code",
   "execution_count": 19,
   "id": "fcbe3b3b",
   "metadata": {},
   "outputs": [],
   "source": [
    "x_train,x_test,y_train,y_test = train_test_split(x,y)"
   ]
  },
  {
   "cell_type": "code",
   "execution_count": 20,
   "id": "0e6c2bc2",
   "metadata": {},
   "outputs": [
    {
     "data": {
      "text/plain": [
       "LinearRegression()"
      ]
     },
     "execution_count": 20,
     "metadata": {},
     "output_type": "execute_result"
    }
   ],
   "source": [
    "model = LinearRegression()\n",
    "model.fit(x_train,y_train)"
   ]
  },
  {
   "cell_type": "code",
   "execution_count": 21,
   "id": "a1eeddcd",
   "metadata": {},
   "outputs": [
    {
     "data": {
      "text/plain": [
       "1.0"
      ]
     },
     "execution_count": 21,
     "metadata": {},
     "output_type": "execute_result"
    }
   ],
   "source": [
    "model.score(x_train,y_train)"
   ]
  },
  {
   "cell_type": "markdown",
   "id": "cca4238b",
   "metadata": {},
   "source": [
    "### user define function"
   ]
  },
  {
   "cell_type": "code",
   "execution_count": 22,
   "id": "f19bb8d1",
   "metadata": {},
   "outputs": [
    {
     "data": {
      "text/plain": [
       "Index(['TND_Scope_IP_Meter', 'TND_per_Meter', 'ROW_Per_Meter', 'TND_Cost',\n",
       "       'ROW_Cost', 'OSP_Cost', 'ISP_Cost', 'IBD_Cost', 'NCPE_Cost',\n",
       "       'Utility_Cost', 'BLDG_ID_AGBMBD0311718', 'BLDG_ID_BBILBD0000290',\n",
       "       'BLDG_ID_BDGHBD0097038', 'BLDG_ID_CHNNBD0062206',\n",
       "       'BLDG_ID_CTTRBD0002352', 'BLDG_ID_DMTRBD0024571',\n",
       "       'BLDG_ID_DPHUBD0007887', 'BLDG_ID_FSNGBD0000338',\n",
       "       'BLDG_ID_HDBDBD0303686', 'BLDG_ID_HSURBD0047899',\n",
       "       'BLDG_ID_ICKJBD0000744', 'BLDG_ID_JBLPBD0064985',\n",
       "       'BLDG_ID_JLDRBD0123615', 'BLDG_ID_KNTDBD0047085',\n",
       "       'BLDG_ID_LKMPBD0062346', 'BLDG_ID_MDURBD0193179',\n",
       "       'BLDG_ID_MUMBBD0308617', 'BLDG_ID_MUMBBD0379405',\n",
       "       'BLDG_ID_NPNIBD0016251', 'BLDG_ID_NSHKBD0060970',\n",
       "       'BLDG_ID_PLGRBD0022833', 'BLDG_ID_RJKTBD0016176',\n",
       "       'BLDG_ID_SLEMBD0043912', 'BLDG_ID_SRDPBD0000002',\n",
       "       'BLDG_ID_SURTBD0128500', 'BLDG_ID_WNDGBD0000008',\n",
       "       'state_ANDHRA_PRADESH', 'state_ASSAM', 'state_CHHATTISGARH',\n",
       "       'state_GUJARAT', 'state_HARYANA', 'state_KARNATAKA', 'state_KERALA',\n",
       "       'state_MADHYA_PRADESH', 'state_MAHARASHTRA', 'state_MUMBAI',\n",
       "       'state_PUNJAB', 'state_TAMIL_NADU', 'state_TELANGANA',\n",
       "       'state_UTTAR_PRADESH_EAST'],\n",
       "      dtype='object')"
      ]
     },
     "execution_count": 22,
     "metadata": {},
     "output_type": "execute_result"
    }
   ],
   "source": [
    "x.columns"
   ]
  },
  {
   "cell_type": "code",
   "execution_count": 23,
   "id": "72fe61c2",
   "metadata": {},
   "outputs": [
    {
     "data": {
      "text/plain": [
       "50"
      ]
     },
     "execution_count": 23,
     "metadata": {},
     "output_type": "execute_result"
    }
   ],
   "source": [
    "len(x.columns)"
   ]
  },
  {
   "cell_type": "code",
   "execution_count": 24,
   "id": "681c496b",
   "metadata": {},
   "outputs": [
    {
     "data": {
      "text/html": [
       "<div>\n",
       "<style scoped>\n",
       "    .dataframe tbody tr th:only-of-type {\n",
       "        vertical-align: middle;\n",
       "    }\n",
       "\n",
       "    .dataframe tbody tr th {\n",
       "        vertical-align: top;\n",
       "    }\n",
       "\n",
       "    .dataframe thead th {\n",
       "        text-align: right;\n",
       "    }\n",
       "</style>\n",
       "<table border=\"1\" class=\"dataframe\">\n",
       "  <thead>\n",
       "    <tr style=\"text-align: right;\">\n",
       "      <th></th>\n",
       "      <th>TND_Scope_IP_Meter</th>\n",
       "      <th>TND_per_Meter</th>\n",
       "      <th>ROW_Per_Meter</th>\n",
       "      <th>TND_Cost</th>\n",
       "      <th>ROW_Cost</th>\n",
       "      <th>OSP_Cost</th>\n",
       "      <th>ISP_Cost</th>\n",
       "      <th>IBD_Cost</th>\n",
       "      <th>NCPE_Cost</th>\n",
       "      <th>Utility_Cost</th>\n",
       "      <th>...</th>\n",
       "      <th>state_HARYANA</th>\n",
       "      <th>state_KARNATAKA</th>\n",
       "      <th>state_KERALA</th>\n",
       "      <th>state_MADHYA_PRADESH</th>\n",
       "      <th>state_MAHARASHTRA</th>\n",
       "      <th>state_MUMBAI</th>\n",
       "      <th>state_PUNJAB</th>\n",
       "      <th>state_TAMIL_NADU</th>\n",
       "      <th>state_TELANGANA</th>\n",
       "      <th>state_UTTAR_PRADESH_EAST</th>\n",
       "    </tr>\n",
       "  </thead>\n",
       "  <tbody>\n",
       "    <tr>\n",
       "      <th>0</th>\n",
       "      <td>106.0</td>\n",
       "      <td>478</td>\n",
       "      <td>273</td>\n",
       "      <td>50668</td>\n",
       "      <td>28938</td>\n",
       "      <td>509398.37</td>\n",
       "      <td>47500</td>\n",
       "      <td>33933</td>\n",
       "      <td>19413</td>\n",
       "      <td>900</td>\n",
       "      <td>...</td>\n",
       "      <td>0</td>\n",
       "      <td>0</td>\n",
       "      <td>0</td>\n",
       "      <td>0</td>\n",
       "      <td>0</td>\n",
       "      <td>0</td>\n",
       "      <td>0</td>\n",
       "      <td>1</td>\n",
       "      <td>0</td>\n",
       "      <td>0</td>\n",
       "    </tr>\n",
       "  </tbody>\n",
       "</table>\n",
       "<p>1 rows × 51 columns</p>\n",
       "</div>"
      ],
      "text/plain": [
       "   TND_Scope_IP_Meter  TND_per_Meter  ROW_Per_Meter  TND_Cost  ROW_Cost  \\\n",
       "0               106.0            478            273     50668     28938   \n",
       "\n",
       "    OSP_Cost  ISP_Cost  IBD_Cost  NCPE_Cost  Utility_Cost  ...  state_HARYANA  \\\n",
       "0  509398.37     47500     33933      19413           900  ...              0   \n",
       "\n",
       "   state_KARNATAKA  state_KERALA  state_MADHYA_PRADESH  state_MAHARASHTRA  \\\n",
       "0                0             0                     0                  0   \n",
       "\n",
       "   state_MUMBAI  state_PUNJAB  state_TAMIL_NADU  state_TELANGANA  \\\n",
       "0             0             0                 1                0   \n",
       "\n",
       "   state_UTTAR_PRADESH_EAST  \n",
       "0                         0  \n",
       "\n",
       "[1 rows x 51 columns]"
      ]
     },
     "execution_count": 24,
     "metadata": {},
     "output_type": "execute_result"
    }
   ],
   "source": [
    "df.head(1)"
   ]
  },
  {
   "cell_type": "code",
   "execution_count": 60,
   "id": "1f283e79",
   "metadata": {},
   "outputs": [
    {
     "name": "stderr",
     "output_type": "stream",
     "text": [
      "C:\\Users\\hp\\anaconda3\\lib\\site-packages\\sklearn\\base.py:450: UserWarning: X does not have valid feature names, but LinearRegression was fitted with feature names\n",
      "  warnings.warn(\n"
     ]
    },
    {
     "data": {
      "text/plain": [
       "array([690750.37])"
      ]
     },
     "execution_count": 60,
     "metadata": {},
     "output_type": "execute_result"
    }
   ],
   "source": [
    "                      \n",
    "ID = 'WNDGBD0000008'\n",
    "state = 'MAHARASHTRA'\n",
    "TND_Scope_IP_Meter = 106\n",
    "TND_per_Meter = 478\n",
    "ROW_Per_Meter = 273\n",
    "\n",
    "                      \n",
    "user_data = np.zeros(len(x.columns))\n",
    "user_data[0] = TND_Scope_IP_Meter\n",
    "user_data[1] = TND_per_Meter\n",
    "user_data[2] = ROW_Per_Meter\n",
    "user_data[3] = user_data[0] * user_data[1]\n",
    "user_data[4] = user_data[0] * user_data[2]\n",
    "user_data[5] = 45154+(user_data[0]*1.1*3657)+(user_data[0]*1.1*200)+(((user_data[0]/200)+1)*3745)+(((user_data[0]/200)+1)*5744)\n",
    "user_data[6] = 47500\n",
    "user_data[7] = 33933\n",
    "user_data[8] = 19413\n",
    "user_data[9] = 900                    \n",
    "                                           \n",
    "BLDG_ID = 'BLDG_ID_'+ID\n",
    "index = np.where(x.columns == BLDG_ID)[0][0]\n",
    "user_data[index] = 1\n",
    "\n",
    "R4G_State = 'state_'+state\n",
    "index = np.where(x.columns == R4G_State)[0][0]\n",
    "user_data[index] = 1\n",
    "                      \n",
    "result = model.predict([user_data])\n",
    "np.round(result, decimals=3)\n",
    "                      "
   ]
  },
  {
   "cell_type": "code",
   "execution_count": 36,
   "id": "320d6a28",
   "metadata": {},
   "outputs": [
    {
     "data": {
      "text/plain": [
       "35"
      ]
     },
     "execution_count": 36,
     "metadata": {},
     "output_type": "execute_result"
    }
   ],
   "source": [
    "ID = 'WNDGBD0000008'\n",
    "BLDG_ID = 'BLDG_ID_'+ID\n",
    "index = np.where(x.columns == BLDG_ID)[0][0]\n",
    "user_data[index] = 1\n",
    "index"
   ]
  },
  {
   "cell_type": "code",
   "execution_count": 38,
   "id": "eae2e4c5",
   "metadata": {},
   "outputs": [
    {
     "data": {
      "text/plain": [
       "49"
      ]
     },
     "execution_count": 38,
     "metadata": {},
     "output_type": "execute_result"
    }
   ],
   "source": [
    "state = 'UTTAR_PRADESH_EAST'\n",
    "R4G_State = 'state_'+state\n",
    "index = np.where(x.columns == R4G_State)[0][0]\n",
    "user_data[index] = 1\n",
    "index"
   ]
  },
  {
   "cell_type": "code",
   "execution_count": 40,
   "id": "98909db9",
   "metadata": {},
   "outputs": [
    {
     "data": {
      "text/plain": [
       "(26, 50)"
      ]
     },
     "execution_count": 40,
     "metadata": {},
     "output_type": "execute_result"
    }
   ],
   "source": [
    "x.shape"
   ]
  },
  {
   "cell_type": "markdown",
   "id": "80f103e9",
   "metadata": {},
   "source": [
    "### Save Model File"
   ]
  },
  {
   "cell_type": "code",
   "execution_count": 26,
   "id": "315f37dd",
   "metadata": {},
   "outputs": [],
   "source": [
    "import pickle\n",
    "import json"
   ]
  },
  {
   "cell_type": "code",
   "execution_count": 27,
   "id": "1cc79f9c",
   "metadata": {},
   "outputs": [],
   "source": [
    "with open('model.pkl','wb') as file:\n",
    "    pickle.dump(model, file)"
   ]
  },
  {
   "cell_type": "code",
   "execution_count": 28,
   "id": "3634d36d",
   "metadata": {},
   "outputs": [],
   "source": [
    "project_data = {\"column_names\":x.columns.tolist()}\n",
    "\n",
    "with open('project_data.json','w') as file:\n",
    "    json.dump(project_data,file)"
   ]
  },
  {
   "cell_type": "code",
   "execution_count": null,
   "id": "86a86664",
   "metadata": {},
   "outputs": [],
   "source": [
    "<option value=\"BLDG_ID_AGBMBD0311718\">AGBMBD0311718</option>\n",
    "<option value='BLDG_ID_BBILBD0000290'>BBILBD0000290</option>\n",
    "<option value='BLDG_ID_BDGHBD0097038'>BDGHBD0097038</option>\n",
    "<option value='BLDG_ID_CHNNBD0062206'>CHNNBD0062206</option>\n",
    "<option value='BLDG_ID_CTTRBD0002352'>CTTRBD0002352</option>\n",
    "<option value='BLDG_ID_DMTRBD0024571'>DMTRBD0024571</option>\n",
    "<option value='BLDG_ID_DPHUBD0007887'>DPHUBD0007887</option>\n",
    "<option value='BLDG_ID_FSNGBD0000338'>FSNGBD0000338</option>\n",
    "<option value='BLDG_ID_HDBDBD0303686'>HDBDBD0303686</option>\n",
    "<option value='BLDG_ID_HSURBD0047899'>HSURBD0047899</option>\n",
    "<option value='BLDG_ID_ICKJBD0000744'>ICKJBD0000744</option>\n",
    "<option value='BLDG_ID_JBLPBD0064985'>JBLPBD0064985</option>\n",
    "<option value='BLDG_ID_JLDRBD0123615'>JLDRBD0123615</option>\n",
    "<option value='BLDG_ID_KNTDBD0047085'>KNTDBD0047085</option>\n",
    "<option value='BLDG_ID_LKMPBD0062346'>LKMPBD0062346</option>\n",
    "<option value='BLDG_ID_MDURBD0193179'>MDURBD0193179</option>\n",
    "<option value='BLDG_ID_MUMBBD0308617'>MUMBBD0308617</option>\n",
    "<option value='BLDG_ID_MUMBBD0379405'>MUMBBD0379405</option>\n",
    "<option value='BLDG_ID_NPNIBD0016251'>NPNIBD0016251</option>\n",
    "<option value='BLDG_ID_NSHKBD0060970'>NSHKBD0060970</option>\n",
    "<option value='BLDG_ID_PLGRBD0022833'>PLGRBD0022833</option>\n",
    "<option value='BLDG_ID_RJKTBD0016176'>RJKTBD0016176</option>\n",
    "<option value='BLDG_ID_SLEMBD0043912'>SLEMBD0043912</option>\n",
    "<option value='BLDG_ID_SRDPBD0000002'>SRDPBD0000002</option>\n",
    "<option value='BLDG_ID_SURTBD0128500'>SURTBD0128500</option>\n",
    "<option value='BLDG_ID_WNDGBD0000008'>WNDGBD0000008</option>"
   ]
  },
  {
   "cell_type": "code",
   "execution_count": null,
   "id": "0c34d3cc",
   "metadata": {},
   "outputs": [],
   "source": [
    "<option value='ANDHRA_PRADESH'>ANDHRA_PRADESH</option>\n",
    "<option value='ASSAM'>ASSAM</option>\n",
    "<option value='CHHATTISGARH'>CHHATTISGARH</option>\n",
    "<option value='GUJARAT'>GUJARAT</option>\n",
    "<option value='HARYANA'>HARYANA</option>\n",
    "<option value='KARNATAKA'>KARNATAKA</option>\n",
    "<option value='KERALA'>KERALA</option>\n",
    "<option value='MADHYA_PRADESH'>MADHYA_PRADESH</option>\n",
    "<option value='MAHARASHTRA'>MAHARASHTRA</option>\n",
    "<option value='MUMBAI'>MUMBAI</option>\n",
    "<option value='PUNJAB'>PUNJAB</option>\n",
    "<option value='TAMIL_NADU'>TAMIL_NADU</option>\n",
    "<option value='TELANGANA'>TELANGANA</option>\n",
    "<option value='UTTAR_PRADESH_EAST'>UTTAR_PRADESH_EAST</option>"
   ]
  },
  {
   "cell_type": "code",
   "execution_count": null,
   "id": "da722111",
   "metadata": {},
   "outputs": [],
   "source": []
  }
 ],
 "metadata": {
  "kernelspec": {
   "display_name": "Python 3 (ipykernel)",
   "language": "python",
   "name": "python3"
  },
  "language_info": {
   "codemirror_mode": {
    "name": "ipython",
    "version": 3
   },
   "file_extension": ".py",
   "mimetype": "text/x-python",
   "name": "python",
   "nbconvert_exporter": "python",
   "pygments_lexer": "ipython3",
   "version": "3.9.16"
  }
 },
 "nbformat": 4,
 "nbformat_minor": 5
}
